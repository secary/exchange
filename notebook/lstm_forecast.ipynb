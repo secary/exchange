{
 "cells": [
  {
   "cell_type": "code",
   "execution_count": 1,
   "id": "cc5fbc69",
   "metadata": {},
   "outputs": [],
   "source": [
    "import pandas as pd\n",
    "import numpy as np\n",
    "import torch\n",
    "import time\n",
    "import matplotlib.pyplot as plt"
   ]
  },
  {
   "cell_type": "code",
   "execution_count": 2,
   "id": "0ee4f179",
   "metadata": {},
   "outputs": [
    {
     "name": "stdout",
     "output_type": "stream",
     "text": [
      "/home/mt/root/Janus\n",
      "/home/mt/root/Janus/predictor\n"
     ]
    }
   ],
   "source": [
    "import os\n",
    "import sys\n",
    "\n",
    "ROOT_DIR = os.path.abspath(os.path.join(os.getcwd(), \"../\"))\n",
    "BASE_DIR = os.path.join(ROOT_DIR, \"predictor\")\n",
    "\n",
    "sys.path.append(ROOT_DIR)\n",
    "sys.path.append(BASE_DIR)\n",
    "\n",
    "for path in sys.path:\n",
    "    if ROOT_DIR in path:\n",
    "        print(path)\n",
    "        \n",
    "from predictor.methods import fetch_history, build_sequences, split, load_latest_model, evaluate_metrics, scale, preprocess"
   ]
  },
  {
   "cell_type": "code",
   "execution_count": 3,
   "id": "41a64b63",
   "metadata": {},
   "outputs": [],
   "source": [
    "def lstm_predict(currency: str, days: int=7):\n",
    "    \n",
    "    device = \"cuda\"\n",
    "    model_dir = os.path.join(BASE_DIR, \"models\", \"RateLSTM\")\n",
    "    model = load_latest_model(model_dir, currency, device, verbose=True)\n",
    "    \n",
    "    currency = currency.upper()\n",
    "    df = preprocess(fetch_history(currency, 30))\n",
    "    data = scale(df[['Rate']])\n",
    "\n",
    "    seq = 48\n",
    "    X, y = build_sequences(data, seq)\n",
    "    X_train, y_train, X_test, y_test = split(X, y, 0.8)\n",
    "\n",
    "\n",
    "    preds = scale(model.predict(X_test).cpu().numpy(), inverse=True)\n",
    "    trues = scale(y_test.cpu().numpy(), inverse=True)\n",
    "    dates = df.index[seq + len(X_train):]\n",
    "\n",
    "    df_predict = pd.DataFrame({\n",
    "        \"Date\": dates,\n",
    "        \"Currency\": currency,\n",
    "        \"Rates\": trues.flatten(),\n",
    "        \"Predicted_Rates\": preds.flatten(),\n",
    "        \"local\": time.strftime(\"%Y-%m-%d %H:%M:%S %Z\", time.localtime())\n",
    "    })\n",
    "    \n",
    "    # Generate future predictions\n",
    "    future_steps = days * seq\n",
    "    last_seq = data[-seq:].copy()\n",
    "    future_scaled = []\n",
    "\n",
    "    model.eval()\n",
    "    for _ in range(future_steps):\n",
    "        inp = torch.tensor(last_seq[np.newaxis, ...], dtype=torch.float32).to(device)\n",
    "        with torch.no_grad():\n",
    "            pred = model(inp).cpu().numpy().flatten()\n",
    "        future_scaled.append(pred[0])\n",
    "        last_seq = np.vstack([last_seq[1:], pred.reshape(1, 1)])\n",
    "\n",
    "    future_scaled = np.array(future_scaled).reshape(-1, 1)\n",
    "    future = scale(future_scaled, inverse=True)\n",
    "    step = df.index[1] - df.index[0]\n",
    "    future_dates = [df.index[-1] + (i+1)*step for i in range(future_steps)]\n",
    "\n",
    "    df_forecast = pd.DataFrame({\n",
    "        \"Date\": future_dates,\n",
    "        \"Currency\": currency,\n",
    "        \"Predicted_Rates\": future.flatten(),\n",
    "        \"local\": time.strftime(\"%Y-%m-%d %H:%M:%S %Z\", time.localtime())\n",
    "    })\n",
    "\n",
    "\n",
    "    \n",
    "    evaluate_metrics(trues, preds)\n",
    "    \n",
    "    plt.figure(figsize=(14, 6))\n",
    "    plt.plot(df_predict[\"Date\"], df_predict[\"Rates\"], label=\"Actual\", linewidth=2)\n",
    "    plt.plot(df_predict[\"Date\"], df_predict[\"Predicted_Rates\"], label=\"Predicted\", linewidth=2)\n",
    "    plt.plot(df_forecast[\"Date\"], df_forecast[\"Predicted_Rates\"], label=\"Forecast\", linestyle=\"--\")\n",
    "    plt.xlabel(\"Date\")\n",
    "    plt.ylabel(\"Exchange Rate\")\n",
    "    plt.title(f\"{currency.upper()} Exchange Rate Prediction + {days}-Days Forecast\")\n",
    "    plt.legend()\n",
    "    plt.grid()\n",
    "    plt.xticks(rotation=45)\n",
    "    plt.tight_layout()\n",
    "    \n",
    "    return df_forecast"
   ]
  },
  {
   "cell_type": "code",
   "execution_count": 4,
   "id": "e7ec3331",
   "metadata": {},
   "outputs": [
    {
     "data": {
      "application/vnd.microsoft.datawrangler.viewer.v0+json": {
       "columns": [
        {
         "name": "index",
         "rawType": "int64",
         "type": "integer"
        },
        {
         "name": "Date",
         "rawType": "datetime64[ns]",
         "type": "datetime"
        },
        {
         "name": "Currency",
         "rawType": "object",
         "type": "string"
        },
        {
         "name": "Rate",
         "rawType": "float64",
         "type": "float"
        },
        {
         "name": "Locals",
         "rawType": "object",
         "type": "string"
        }
       ],
       "ref": "dd8f86ba-d9f8-4957-aa80-ebbdc8c536eb",
       "rows": [
        [
         "0",
         "2025-05-19 22:14:55",
         "AUD",
         "467.5",
         "2025-05-20 00:00:12 ACST"
        ],
        [
         "1",
         "2025-05-19 22:56:19",
         "AUD",
         "468.08",
         "2025-05-20 01:00:57 ACST"
        ],
        [
         "2",
         "2025-05-19 23:55:31",
         "AUD",
         "468.22",
         "2025-05-20 01:30:05 ACST"
        ],
        [
         "3",
         "2025-05-20 00:00:05",
         "AUD",
         "468.22",
         "2025-05-20 02:30:19 ACST"
        ],
        [
         "4",
         "2025-05-20 01:10:44",
         "AUD",
         "467.93",
         "2025-05-20 03:30:07 ACST"
        ],
        [
         "5",
         "2025-05-20 02:13:21",
         "AUD",
         "467.5",
         "2025-05-20 04:00:11 ACST"
        ],
        [
         "6",
         "2025-05-20 02:52:12",
         "AUD",
         "467.72",
         "2025-05-20 07:00:05 ACST"
        ],
        [
         "7",
         "2025-05-20 05:30:00",
         "AUD",
         "467.72",
         "2025-05-20 08:00:05 ACST"
        ],
        [
         "8",
         "2025-05-20 06:40:24",
         "AUD",
         "468.15",
         "2025-05-20 10:00:09 ACST"
        ],
        [
         "9",
         "2025-05-20 08:33:47",
         "AUD",
         "467.5",
         "2025-05-20 10:30:23 ACST"
        ],
        [
         "10",
         "2025-05-20 09:20:07",
         "AUD",
         "467.57",
         "2025-05-20 11:00:08 ACST"
        ],
        [
         "11",
         "2025-05-20 09:57:43",
         "AUD",
         "467.38",
         "2025-05-20 11:30:05 ACST"
        ],
        [
         "12",
         "2025-05-20 10:27:50",
         "AUD",
         "467.59",
         "2025-05-20 12:00:05 ACST"
        ],
        [
         "13",
         "2025-05-20 10:56:13",
         "AUD",
         "467.54",
         "2025-05-20 12:30:12 ACST"
        ],
        [
         "14",
         "2025-05-20 11:23:56",
         "AUD",
         "467.84",
         "2025-05-20 13:00:14 ACST"
        ],
        [
         "15",
         "2025-05-20 11:33:04",
         "AUD",
         "467.78",
         "2025-05-20 14:00:40 ACST"
        ],
        [
         "16",
         "2025-05-20 12:31:25",
         "AUD",
         "466.84",
         "2025-05-20 14:30:05 ACST"
        ],
        [
         "17",
         "2025-05-20 13:27:34",
         "AUD",
         "466.92",
         "2025-05-20 15:00:09 ACST"
        ],
        [
         "18",
         "2025-05-20 13:59:30",
         "AUD",
         "465.34",
         "2025-05-20 15:30:22 ACST"
        ],
        [
         "19",
         "2025-05-20 14:27:17",
         "AUD",
         "465.91",
         "2025-05-20 16:00:12 ACST"
        ],
        [
         "20",
         "2025-05-20 14:54:10",
         "AUD",
         "465.45",
         "2025-05-20 16:30:52 ACST"
        ],
        [
         "21",
         "2025-05-20 15:25:18",
         "AUD",
         "465.72",
         "2025-05-20 17:00:05 ACST"
        ],
        [
         "22",
         "2025-05-20 15:47:43",
         "AUD",
         "465.8",
         "2025-05-20 17:30:04 ACST"
        ],
        [
         "23",
         "2025-05-20 16:27:59",
         "AUD",
         "465.78",
         "2025-05-20 18:00:05 ACST"
        ],
        [
         "24",
         "2025-05-20 16:47:09",
         "AUD",
         "465.58",
         "2025-05-20 18:30:04 ACST"
        ],
        [
         "25",
         "2025-05-20 17:14:05",
         "AUD",
         "465.5",
         "2025-05-20 19:00:13 ACST"
        ],
        [
         "26",
         "2025-05-20 17:48:36",
         "AUD",
         "465.47",
         "2025-05-20 19:30:05 ACST"
        ],
        [
         "27",
         "2025-05-20 18:53:33",
         "AUD",
         "465.22",
         "2025-05-20 20:30:50 ACST"
        ],
        [
         "28",
         "2025-05-20 19:29:36",
         "AUD",
         "465.22",
         "2025-05-20 21:00:54 ACST"
        ],
        [
         "29",
         "2025-05-20 19:50:32",
         "AUD",
         "464.93",
         "2025-05-20 21:30:05 ACST"
        ],
        [
         "30",
         "2025-05-20 20:23:39",
         "AUD",
         "464.14",
         "2025-05-20 22:00:05 ACST"
        ],
        [
         "31",
         "2025-05-20 20:53:39",
         "AUD",
         "464.0",
         "2025-05-20 23:00:12 ACST"
        ],
        [
         "32",
         "2025-05-20 21:51:00",
         "AUD",
         "464.28",
         "2025-05-20 23:30:05 ACST"
        ],
        [
         "33",
         "2025-05-20 22:27:31",
         "AUD",
         "464.29",
         "2025-05-21 00:00:36 ACST"
        ],
        [
         "34",
         "2025-05-20 22:54:45",
         "AUD",
         "464.23",
         "2025-05-21 00:30:09 ACST"
        ],
        [
         "35",
         "2025-05-20 23:38:36",
         "AUD",
         "464.01",
         "2025-05-21 01:30:11 ACST"
        ],
        [
         "36",
         "2025-05-21 00:19:30",
         "AUD",
         "464.45",
         "2025-05-21 02:00:04 ACST"
        ],
        [
         "37",
         "2025-05-21 00:55:43",
         "AUD",
         "465.24",
         "2025-05-21 02:30:04 ACST"
        ],
        [
         "38",
         "2025-05-21 01:19:52",
         "AUD",
         "465.53",
         "2025-05-21 03:00:32 ACST"
        ],
        [
         "39",
         "2025-05-21 01:39:19",
         "AUD",
         "465.46",
         "2025-05-21 03:30:39 ACST"
        ],
        [
         "40",
         "2025-05-21 02:26:35",
         "AUD",
         "465.31",
         "2025-05-21 04:00:05 ACST"
        ],
        [
         "41",
         "2025-05-21 02:51:59",
         "AUD",
         "465.09",
         "2025-05-21 07:00:05 ACST"
        ],
        [
         "42",
         "2025-05-21 05:30:00",
         "AUD",
         "465.09",
         "2025-05-21 08:00:03 ACST"
        ],
        [
         "43",
         "2025-05-21 06:40:38",
         "AUD",
         "465.53",
         "2025-05-21 10:30:04 ACST"
        ],
        [
         "44",
         "2025-05-21 09:16:02",
         "AUD",
         "466.76",
         "2025-05-21 11:00:18 ACST"
        ],
        [
         "45",
         "2025-05-21 10:26:10",
         "AUD",
         "466.8",
         "2025-05-21 12:00:06 ACST"
        ],
        [
         "46",
         "2025-05-21 11:18:43",
         "AUD",
         "466.94",
         "2025-05-21 13:00:16 ACST"
        ],
        [
         "47",
         "2025-05-21 12:47:15",
         "AUD",
         "467.27",
         "2025-05-21 14:30:13 ACST"
        ],
        [
         "48",
         "2025-05-21 13:28:57",
         "AUD",
         "467.63",
         "2025-05-21 15:00:07 ACST"
        ],
        [
         "49",
         "2025-05-21 13:58:48",
         "AUD",
         "467.2",
         "2025-05-21 15:30:03 ACST"
        ]
       ],
       "shape": {
        "columns": 4,
        "rows": 692
       }
      },
      "text/html": [
       "<div>\n",
       "<style scoped>\n",
       "    .dataframe tbody tr th:only-of-type {\n",
       "        vertical-align: middle;\n",
       "    }\n",
       "\n",
       "    .dataframe tbody tr th {\n",
       "        vertical-align: top;\n",
       "    }\n",
       "\n",
       "    .dataframe thead th {\n",
       "        text-align: right;\n",
       "    }\n",
       "</style>\n",
       "<table border=\"1\" class=\"dataframe\">\n",
       "  <thead>\n",
       "    <tr style=\"text-align: right;\">\n",
       "      <th></th>\n",
       "      <th>Date</th>\n",
       "      <th>Currency</th>\n",
       "      <th>Rate</th>\n",
       "      <th>Locals</th>\n",
       "    </tr>\n",
       "  </thead>\n",
       "  <tbody>\n",
       "    <tr>\n",
       "      <th>0</th>\n",
       "      <td>2025-05-19 22:14:55</td>\n",
       "      <td>AUD</td>\n",
       "      <td>467.50</td>\n",
       "      <td>2025-05-20 00:00:12 ACST</td>\n",
       "    </tr>\n",
       "    <tr>\n",
       "      <th>1</th>\n",
       "      <td>2025-05-19 22:56:19</td>\n",
       "      <td>AUD</td>\n",
       "      <td>468.08</td>\n",
       "      <td>2025-05-20 01:00:57 ACST</td>\n",
       "    </tr>\n",
       "    <tr>\n",
       "      <th>2</th>\n",
       "      <td>2025-05-19 23:55:31</td>\n",
       "      <td>AUD</td>\n",
       "      <td>468.22</td>\n",
       "      <td>2025-05-20 01:30:05 ACST</td>\n",
       "    </tr>\n",
       "    <tr>\n",
       "      <th>3</th>\n",
       "      <td>2025-05-20 00:00:05</td>\n",
       "      <td>AUD</td>\n",
       "      <td>468.22</td>\n",
       "      <td>2025-05-20 02:30:19 ACST</td>\n",
       "    </tr>\n",
       "    <tr>\n",
       "      <th>4</th>\n",
       "      <td>2025-05-20 01:10:44</td>\n",
       "      <td>AUD</td>\n",
       "      <td>467.93</td>\n",
       "      <td>2025-05-20 03:30:07 ACST</td>\n",
       "    </tr>\n",
       "    <tr>\n",
       "      <th>...</th>\n",
       "      <td>...</td>\n",
       "      <td>...</td>\n",
       "      <td>...</td>\n",
       "      <td>...</td>\n",
       "    </tr>\n",
       "    <tr>\n",
       "      <th>687</th>\n",
       "      <td>2025-06-18 16:24:44</td>\n",
       "      <td>AUD</td>\n",
       "      <td>468.94</td>\n",
       "      <td>2025-06-18 18:00:17 ACST</td>\n",
       "    </tr>\n",
       "    <tr>\n",
       "      <th>688</th>\n",
       "      <td>2025-06-18 16:52:15</td>\n",
       "      <td>AUD</td>\n",
       "      <td>469.16</td>\n",
       "      <td>2025-06-18 19:30:19 ACST</td>\n",
       "    </tr>\n",
       "    <tr>\n",
       "      <th>689</th>\n",
       "      <td>2025-06-18 18:08:24</td>\n",
       "      <td>AUD</td>\n",
       "      <td>469.37</td>\n",
       "      <td>2025-06-18 20:00:09 ACST</td>\n",
       "    </tr>\n",
       "    <tr>\n",
       "      <th>690</th>\n",
       "      <td>2025-06-18 18:36:20</td>\n",
       "      <td>AUD</td>\n",
       "      <td>469.12</td>\n",
       "      <td>2025-06-18 20:30:10 ACST</td>\n",
       "    </tr>\n",
       "    <tr>\n",
       "      <th>691</th>\n",
       "      <td>2025-06-18 19:07:50</td>\n",
       "      <td>AUD</td>\n",
       "      <td>468.79</td>\n",
       "      <td>2025-06-18 21:00:09 ACST</td>\n",
       "    </tr>\n",
       "  </tbody>\n",
       "</table>\n",
       "<p>692 rows × 4 columns</p>\n",
       "</div>"
      ],
      "text/plain": [
       "                   Date Currency    Rate                    Locals\n",
       "0   2025-05-19 22:14:55      AUD  467.50  2025-05-20 00:00:12 ACST\n",
       "1   2025-05-19 22:56:19      AUD  468.08  2025-05-20 01:00:57 ACST\n",
       "2   2025-05-19 23:55:31      AUD  468.22  2025-05-20 01:30:05 ACST\n",
       "3   2025-05-20 00:00:05      AUD  468.22  2025-05-20 02:30:19 ACST\n",
       "4   2025-05-20 01:10:44      AUD  467.93  2025-05-20 03:30:07 ACST\n",
       "..                  ...      ...     ...                       ...\n",
       "687 2025-06-18 16:24:44      AUD  468.94  2025-06-18 18:00:17 ACST\n",
       "688 2025-06-18 16:52:15      AUD  469.16  2025-06-18 19:30:19 ACST\n",
       "689 2025-06-18 18:08:24      AUD  469.37  2025-06-18 20:00:09 ACST\n",
       "690 2025-06-18 18:36:20      AUD  469.12  2025-06-18 20:30:10 ACST\n",
       "691 2025-06-18 19:07:50      AUD  468.79  2025-06-18 21:00:09 ACST\n",
       "\n",
       "[692 rows x 4 columns]"
      ]
     },
     "execution_count": 4,
     "metadata": {},
     "output_type": "execute_result"
    }
   ],
   "source": [
    "fetch_history('aud', 30)"
   ]
  },
  {
   "cell_type": "code",
   "execution_count": 5,
   "id": "54e042d2",
   "metadata": {},
   "outputs": [
    {
     "name": "stdout",
     "output_type": "stream",
     "text": [
      "🔍 Loading latest AUD model: /home/mt/root/Janus/predictor/models/RateLSTM/RateLSTM_AUD_202506.pth\n",
      "MAE  : 0.21125552\n",
      "MSE  : 0.11324930\n",
      "RMSE : 0.33652534\n",
      "MAPE : 0.05%\n"
     ]
    },
    {
     "data": {
      "application/vnd.microsoft.datawrangler.viewer.v0+json": {
       "columns": [
        {
         "name": "index",
         "rawType": "int64",
         "type": "integer"
        },
        {
         "name": "Date",
         "rawType": "datetime64[ns]",
         "type": "datetime"
        },
        {
         "name": "Currency",
         "rawType": "object",
         "type": "string"
        },
        {
         "name": "Predicted_Rates",
         "rawType": "float32",
         "type": "float"
        },
        {
         "name": "local",
         "rawType": "object",
         "type": "string"
        }
       ],
       "ref": "c30bc66c-9ee8-49c4-86e9-d1bdc75c7540",
       "rows": [
        [
         "0",
         "2025-06-18 19:30:00",
         "AUD",
         "468.90372",
         "2025-06-18 21:21:06 ACST"
        ],
        [
         "1",
         "2025-06-18 20:00:00",
         "AUD",
         "468.9217",
         "2025-06-18 21:21:06 ACST"
        ],
        [
         "2",
         "2025-06-18 20:30:00",
         "AUD",
         "468.9711",
         "2025-06-18 21:21:06 ACST"
        ],
        [
         "3",
         "2025-06-18 21:00:00",
         "AUD",
         "469.0064",
         "2025-06-18 21:21:06 ACST"
        ],
        [
         "4",
         "2025-06-18 21:30:00",
         "AUD",
         "469.03217",
         "2025-06-18 21:21:06 ACST"
        ],
        [
         "5",
         "2025-06-18 22:00:00",
         "AUD",
         "469.0568",
         "2025-06-18 21:21:06 ACST"
        ],
        [
         "6",
         "2025-06-18 22:30:00",
         "AUD",
         "469.08444",
         "2025-06-18 21:21:06 ACST"
        ],
        [
         "7",
         "2025-06-18 23:00:00",
         "AUD",
         "469.116",
         "2025-06-18 21:21:06 ACST"
        ],
        [
         "8",
         "2025-06-18 23:30:00",
         "AUD",
         "469.15042",
         "2025-06-18 21:21:06 ACST"
        ],
        [
         "9",
         "2025-06-19 00:00:00",
         "AUD",
         "469.18655",
         "2025-06-18 21:21:06 ACST"
        ],
        [
         "10",
         "2025-06-19 00:30:00",
         "AUD",
         "469.2233",
         "2025-06-18 21:21:06 ACST"
        ],
        [
         "11",
         "2025-06-19 01:00:00",
         "AUD",
         "469.25983",
         "2025-06-18 21:21:06 ACST"
        ],
        [
         "12",
         "2025-06-19 01:30:00",
         "AUD",
         "469.29623",
         "2025-06-18 21:21:06 ACST"
        ],
        [
         "13",
         "2025-06-19 02:00:00",
         "AUD",
         "469.3318",
         "2025-06-18 21:21:06 ACST"
        ],
        [
         "14",
         "2025-06-19 02:30:00",
         "AUD",
         "469.36667",
         "2025-06-18 21:21:06 ACST"
        ],
        [
         "15",
         "2025-06-19 03:00:00",
         "AUD",
         "469.40054",
         "2025-06-18 21:21:06 ACST"
        ],
        [
         "16",
         "2025-06-19 03:30:00",
         "AUD",
         "469.43335",
         "2025-06-18 21:21:06 ACST"
        ],
        [
         "17",
         "2025-06-19 04:00:00",
         "AUD",
         "469.46506",
         "2025-06-18 21:21:06 ACST"
        ],
        [
         "18",
         "2025-06-19 04:30:00",
         "AUD",
         "469.49564",
         "2025-06-18 21:21:06 ACST"
        ],
        [
         "19",
         "2025-06-19 05:00:00",
         "AUD",
         "469.525",
         "2025-06-18 21:21:06 ACST"
        ],
        [
         "20",
         "2025-06-19 05:30:00",
         "AUD",
         "469.5531",
         "2025-06-18 21:21:06 ACST"
        ],
        [
         "21",
         "2025-06-19 06:00:00",
         "AUD",
         "469.58002",
         "2025-06-18 21:21:06 ACST"
        ],
        [
         "22",
         "2025-06-19 06:30:00",
         "AUD",
         "469.60562",
         "2025-06-18 21:21:06 ACST"
        ],
        [
         "23",
         "2025-06-19 07:00:00",
         "AUD",
         "469.62988",
         "2025-06-18 21:21:06 ACST"
        ],
        [
         "24",
         "2025-06-19 07:30:00",
         "AUD",
         "469.65286",
         "2025-06-18 21:21:06 ACST"
        ],
        [
         "25",
         "2025-06-19 08:00:00",
         "AUD",
         "469.67468",
         "2025-06-18 21:21:06 ACST"
        ],
        [
         "26",
         "2025-06-19 08:30:00",
         "AUD",
         "469.69525",
         "2025-06-18 21:21:06 ACST"
        ],
        [
         "27",
         "2025-06-19 09:00:00",
         "AUD",
         "469.71466",
         "2025-06-18 21:21:06 ACST"
        ],
        [
         "28",
         "2025-06-19 09:30:00",
         "AUD",
         "469.7328",
         "2025-06-18 21:21:06 ACST"
        ],
        [
         "29",
         "2025-06-19 10:00:00",
         "AUD",
         "469.74976",
         "2025-06-18 21:21:06 ACST"
        ],
        [
         "30",
         "2025-06-19 10:30:00",
         "AUD",
         "469.76584",
         "2025-06-18 21:21:06 ACST"
        ],
        [
         "31",
         "2025-06-19 11:00:00",
         "AUD",
         "469.78088",
         "2025-06-18 21:21:06 ACST"
        ],
        [
         "32",
         "2025-06-19 11:30:00",
         "AUD",
         "469.7949",
         "2025-06-18 21:21:06 ACST"
        ],
        [
         "33",
         "2025-06-19 12:00:00",
         "AUD",
         "469.80795",
         "2025-06-18 21:21:06 ACST"
        ],
        [
         "34",
         "2025-06-19 12:30:00",
         "AUD",
         "469.82016",
         "2025-06-18 21:21:06 ACST"
        ],
        [
         "35",
         "2025-06-19 13:00:00",
         "AUD",
         "469.83142",
         "2025-06-18 21:21:06 ACST"
        ],
        [
         "36",
         "2025-06-19 13:30:00",
         "AUD",
         "469.84195",
         "2025-06-18 21:21:06 ACST"
        ],
        [
         "37",
         "2025-06-19 14:00:00",
         "AUD",
         "469.85165",
         "2025-06-18 21:21:06 ACST"
        ],
        [
         "38",
         "2025-06-19 14:30:00",
         "AUD",
         "469.86066",
         "2025-06-18 21:21:06 ACST"
        ],
        [
         "39",
         "2025-06-19 15:00:00",
         "AUD",
         "469.869",
         "2025-06-18 21:21:06 ACST"
        ],
        [
         "40",
         "2025-06-19 15:30:00",
         "AUD",
         "469.87665",
         "2025-06-18 21:21:06 ACST"
        ],
        [
         "41",
         "2025-06-19 16:00:00",
         "AUD",
         "469.8837",
         "2025-06-18 21:21:06 ACST"
        ],
        [
         "42",
         "2025-06-19 16:30:00",
         "AUD",
         "469.8902",
         "2025-06-18 21:21:06 ACST"
        ],
        [
         "43",
         "2025-06-19 17:00:00",
         "AUD",
         "469.89615",
         "2025-06-18 21:21:06 ACST"
        ],
        [
         "44",
         "2025-06-19 17:30:00",
         "AUD",
         "469.90173",
         "2025-06-18 21:21:06 ACST"
        ],
        [
         "45",
         "2025-06-19 18:00:00",
         "AUD",
         "469.90677",
         "2025-06-18 21:21:06 ACST"
        ],
        [
         "46",
         "2025-06-19 18:30:00",
         "AUD",
         "469.9113",
         "2025-06-18 21:21:06 ACST"
        ],
        [
         "47",
         "2025-06-19 19:00:00",
         "AUD",
         "469.91544",
         "2025-06-18 21:21:06 ACST"
        ],
        [
         "48",
         "2025-06-19 19:30:00",
         "AUD",
         "469.91925",
         "2025-06-18 21:21:06 ACST"
        ],
        [
         "49",
         "2025-06-19 20:00:00",
         "AUD",
         "469.9227",
         "2025-06-18 21:21:06 ACST"
        ]
       ],
       "shape": {
        "columns": 4,
        "rows": 336
       }
      },
      "text/html": [
       "<div>\n",
       "<style scoped>\n",
       "    .dataframe tbody tr th:only-of-type {\n",
       "        vertical-align: middle;\n",
       "    }\n",
       "\n",
       "    .dataframe tbody tr th {\n",
       "        vertical-align: top;\n",
       "    }\n",
       "\n",
       "    .dataframe thead th {\n",
       "        text-align: right;\n",
       "    }\n",
       "</style>\n",
       "<table border=\"1\" class=\"dataframe\">\n",
       "  <thead>\n",
       "    <tr style=\"text-align: right;\">\n",
       "      <th></th>\n",
       "      <th>Date</th>\n",
       "      <th>Currency</th>\n",
       "      <th>Predicted_Rates</th>\n",
       "      <th>local</th>\n",
       "    </tr>\n",
       "  </thead>\n",
       "  <tbody>\n",
       "    <tr>\n",
       "      <th>0</th>\n",
       "      <td>2025-06-18 19:30:00</td>\n",
       "      <td>AUD</td>\n",
       "      <td>468.903717</td>\n",
       "      <td>2025-06-18 21:21:06 ACST</td>\n",
       "    </tr>\n",
       "    <tr>\n",
       "      <th>1</th>\n",
       "      <td>2025-06-18 20:00:00</td>\n",
       "      <td>AUD</td>\n",
       "      <td>468.921692</td>\n",
       "      <td>2025-06-18 21:21:06 ACST</td>\n",
       "    </tr>\n",
       "    <tr>\n",
       "      <th>2</th>\n",
       "      <td>2025-06-18 20:30:00</td>\n",
       "      <td>AUD</td>\n",
       "      <td>468.971100</td>\n",
       "      <td>2025-06-18 21:21:06 ACST</td>\n",
       "    </tr>\n",
       "    <tr>\n",
       "      <th>3</th>\n",
       "      <td>2025-06-18 21:00:00</td>\n",
       "      <td>AUD</td>\n",
       "      <td>469.006409</td>\n",
       "      <td>2025-06-18 21:21:06 ACST</td>\n",
       "    </tr>\n",
       "    <tr>\n",
       "      <th>4</th>\n",
       "      <td>2025-06-18 21:30:00</td>\n",
       "      <td>AUD</td>\n",
       "      <td>469.032166</td>\n",
       "      <td>2025-06-18 21:21:06 ACST</td>\n",
       "    </tr>\n",
       "    <tr>\n",
       "      <th>...</th>\n",
       "      <td>...</td>\n",
       "      <td>...</td>\n",
       "      <td>...</td>\n",
       "      <td>...</td>\n",
       "    </tr>\n",
       "    <tr>\n",
       "      <th>331</th>\n",
       "      <td>2025-06-25 17:00:00</td>\n",
       "      <td>AUD</td>\n",
       "      <td>469.953827</td>\n",
       "      <td>2025-06-18 21:21:06 ACST</td>\n",
       "    </tr>\n",
       "    <tr>\n",
       "      <th>332</th>\n",
       "      <td>2025-06-25 17:30:00</td>\n",
       "      <td>AUD</td>\n",
       "      <td>469.953796</td>\n",
       "      <td>2025-06-18 21:21:06 ACST</td>\n",
       "    </tr>\n",
       "    <tr>\n",
       "      <th>333</th>\n",
       "      <td>2025-06-25 18:00:00</td>\n",
       "      <td>AUD</td>\n",
       "      <td>469.953796</td>\n",
       "      <td>2025-06-18 21:21:06 ACST</td>\n",
       "    </tr>\n",
       "    <tr>\n",
       "      <th>334</th>\n",
       "      <td>2025-06-25 18:30:00</td>\n",
       "      <td>AUD</td>\n",
       "      <td>469.953857</td>\n",
       "      <td>2025-06-18 21:21:06 ACST</td>\n",
       "    </tr>\n",
       "    <tr>\n",
       "      <th>335</th>\n",
       "      <td>2025-06-25 19:00:00</td>\n",
       "      <td>AUD</td>\n",
       "      <td>469.953857</td>\n",
       "      <td>2025-06-18 21:21:06 ACST</td>\n",
       "    </tr>\n",
       "  </tbody>\n",
       "</table>\n",
       "<p>336 rows × 4 columns</p>\n",
       "</div>"
      ],
      "text/plain": [
       "                   Date Currency  Predicted_Rates                     local\n",
       "0   2025-06-18 19:30:00      AUD       468.903717  2025-06-18 21:21:06 ACST\n",
       "1   2025-06-18 20:00:00      AUD       468.921692  2025-06-18 21:21:06 ACST\n",
       "2   2025-06-18 20:30:00      AUD       468.971100  2025-06-18 21:21:06 ACST\n",
       "3   2025-06-18 21:00:00      AUD       469.006409  2025-06-18 21:21:06 ACST\n",
       "4   2025-06-18 21:30:00      AUD       469.032166  2025-06-18 21:21:06 ACST\n",
       "..                  ...      ...              ...                       ...\n",
       "331 2025-06-25 17:00:00      AUD       469.953827  2025-06-18 21:21:06 ACST\n",
       "332 2025-06-25 17:30:00      AUD       469.953796  2025-06-18 21:21:06 ACST\n",
       "333 2025-06-25 18:00:00      AUD       469.953796  2025-06-18 21:21:06 ACST\n",
       "334 2025-06-25 18:30:00      AUD       469.953857  2025-06-18 21:21:06 ACST\n",
       "335 2025-06-25 19:00:00      AUD       469.953857  2025-06-18 21:21:06 ACST\n",
       "\n",
       "[336 rows x 4 columns]"
      ]
     },
     "execution_count": 5,
     "metadata": {},
     "output_type": "execute_result"
    },
    {
     "data": {
      "image/png": "[encoded data removed]",
      "text/plain": [
       "<Figure size 1400x600 with 1 Axes>"
      ]
     },
     "metadata": {},
     "output_type": "display_data"
    }
   ],
   "source": [
    "lstm_predict('aud')"
   ]
  },
  {
   "cell_type": "code",
   "execution_count": 6,
   "id": "7042d4fa",
   "metadata": {},
   "outputs": [
    {
     "name": "stdout",
     "output_type": "stream",
     "text": [
      "🔍 Loading latest JPY model: /home/mt/root/Janus/predictor/models/RateLSTM/RateLSTM_JPY_202506.pth\n",
      "MAE  : 0.00220800\n",
      "MSE  : 0.00000997\n",
      "RMSE : 0.00315679\n",
      "MAPE : 0.04%\n"
     ]
    },
    {
     "data": {
      "application/vnd.microsoft.datawrangler.viewer.v0+json": {
       "columns": [
        {
         "name": "index",
         "rawType": "int64",
         "type": "integer"
        },
        {
         "name": "Date",
         "rawType": "datetime64[ns]",
         "type": "datetime"
        },
        {
         "name": "Currency",
         "rawType": "object",
         "type": "string"
        },
        {
         "name": "Predicted_Rates",
         "rawType": "float32",
         "type": "float"
        },
        {
         "name": "local",
         "rawType": "object",
         "type": "string"
        }
       ],
       "ref": "29609b72-8c69-491e-a2fc-5caa44b54063",
       "rows": [
        [
         "0",
         "2025-06-18 19:30:00",
         "JPY",
         "4.9825077",
         "2025-06-18 21:21:07 ACST"
        ],
        [
         "1",
         "2025-06-18 20:00:00",
         "JPY",
         "4.9826536",
         "2025-06-18 21:21:07 ACST"
        ],
        [
         "2",
         "2025-06-18 20:30:00",
         "JPY",
         "4.98283",
         "2025-06-18 21:21:07 ACST"
        ],
        [
         "3",
         "2025-06-18 21:00:00",
         "JPY",
         "4.9829903",
         "2025-06-18 21:21:07 ACST"
        ],
        [
         "4",
         "2025-06-18 21:30:00",
         "JPY",
         "4.9831142",
         "2025-06-18 21:21:07 ACST"
        ],
        [
         "5",
         "2025-06-18 22:00:00",
         "JPY",
         "4.9832206",
         "2025-06-18 21:21:07 ACST"
        ],
        [
         "6",
         "2025-06-18 22:30:00",
         "JPY",
         "4.983305",
         "2025-06-18 21:21:07 ACST"
        ],
        [
         "7",
         "2025-06-18 23:00:00",
         "JPY",
         "4.983376",
         "2025-06-18 21:21:07 ACST"
        ],
        [
         "8",
         "2025-06-18 23:30:00",
         "JPY",
         "4.983437",
         "2025-06-18 21:21:07 ACST"
        ],
        [
         "9",
         "2025-06-19 00:00:00",
         "JPY",
         "4.9834876",
         "2025-06-18 21:21:07 ACST"
        ],
        [
         "10",
         "2025-06-19 00:30:00",
         "JPY",
         "4.9835296",
         "2025-06-18 21:21:07 ACST"
        ],
        [
         "11",
         "2025-06-19 01:00:00",
         "JPY",
         "4.9835668",
         "2025-06-18 21:21:07 ACST"
        ],
        [
         "12",
         "2025-06-19 01:30:00",
         "JPY",
         "4.9835973",
         "2025-06-18 21:21:07 ACST"
        ],
        [
         "13",
         "2025-06-19 02:00:00",
         "JPY",
         "4.9836226",
         "2025-06-18 21:21:07 ACST"
        ],
        [
         "14",
         "2025-06-19 02:30:00",
         "JPY",
         "4.9836445",
         "2025-06-18 21:21:07 ACST"
        ],
        [
         "15",
         "2025-06-19 03:00:00",
         "JPY",
         "4.983664",
         "2025-06-18 21:21:07 ACST"
        ],
        [
         "16",
         "2025-06-19 03:30:00",
         "JPY",
         "4.9836802",
         "2025-06-18 21:21:07 ACST"
        ],
        [
         "17",
         "2025-06-19 04:00:00",
         "JPY",
         "4.983695",
         "2025-06-18 21:21:07 ACST"
        ],
        [
         "18",
         "2025-06-19 04:30:00",
         "JPY",
         "4.983707",
         "2025-06-18 21:21:07 ACST"
        ],
        [
         "19",
         "2025-06-19 05:00:00",
         "JPY",
         "4.983716",
         "2025-06-18 21:21:07 ACST"
        ],
        [
         "20",
         "2025-06-19 05:30:00",
         "JPY",
         "4.9837246",
         "2025-06-18 21:21:07 ACST"
        ],
        [
         "21",
         "2025-06-19 06:00:00",
         "JPY",
         "4.983733",
         "2025-06-18 21:21:07 ACST"
        ],
        [
         "22",
         "2025-06-19 06:30:00",
         "JPY",
         "4.983738",
         "2025-06-18 21:21:07 ACST"
        ],
        [
         "23",
         "2025-06-19 07:00:00",
         "JPY",
         "4.9837427",
         "2025-06-18 21:21:07 ACST"
        ],
        [
         "24",
         "2025-06-19 07:30:00",
         "JPY",
         "4.983748",
         "2025-06-18 21:21:07 ACST"
        ],
        [
         "25",
         "2025-06-19 08:00:00",
         "JPY",
         "4.983751",
         "2025-06-18 21:21:07 ACST"
        ],
        [
         "26",
         "2025-06-19 08:30:00",
         "JPY",
         "4.983754",
         "2025-06-18 21:21:07 ACST"
        ],
        [
         "27",
         "2025-06-19 09:00:00",
         "JPY",
         "4.983757",
         "2025-06-18 21:21:07 ACST"
        ],
        [
         "28",
         "2025-06-19 09:30:00",
         "JPY",
         "4.98376",
         "2025-06-18 21:21:07 ACST"
        ],
        [
         "29",
         "2025-06-19 10:00:00",
         "JPY",
         "4.9837627",
         "2025-06-18 21:21:07 ACST"
        ],
        [
         "30",
         "2025-06-19 10:30:00",
         "JPY",
         "4.9837656",
         "2025-06-18 21:21:07 ACST"
        ],
        [
         "31",
         "2025-06-19 11:00:00",
         "JPY",
         "4.9837666",
         "2025-06-18 21:21:07 ACST"
        ],
        [
         "32",
         "2025-06-19 11:30:00",
         "JPY",
         "4.983767",
         "2025-06-18 21:21:07 ACST"
        ],
        [
         "33",
         "2025-06-19 12:00:00",
         "JPY",
         "4.983768",
         "2025-06-18 21:21:07 ACST"
        ],
        [
         "34",
         "2025-06-19 12:30:00",
         "JPY",
         "4.9837685",
         "2025-06-18 21:21:07 ACST"
        ],
        [
         "35",
         "2025-06-19 13:00:00",
         "JPY",
         "4.983769",
         "2025-06-18 21:21:07 ACST"
        ],
        [
         "36",
         "2025-06-19 13:30:00",
         "JPY",
         "4.983769",
         "2025-06-18 21:21:07 ACST"
        ],
        [
         "37",
         "2025-06-19 14:00:00",
         "JPY",
         "4.983769",
         "2025-06-18 21:21:07 ACST"
        ],
        [
         "38",
         "2025-06-19 14:30:00",
         "JPY",
         "4.983769",
         "2025-06-18 21:21:07 ACST"
        ],
        [
         "39",
         "2025-06-19 15:00:00",
         "JPY",
         "4.983769",
         "2025-06-18 21:21:07 ACST"
        ],
        [
         "40",
         "2025-06-19 15:30:00",
         "JPY",
         "4.983769",
         "2025-06-18 21:21:07 ACST"
        ],
        [
         "41",
         "2025-06-19 16:00:00",
         "JPY",
         "4.983769",
         "2025-06-18 21:21:07 ACST"
        ],
        [
         "42",
         "2025-06-19 16:30:00",
         "JPY",
         "4.983769",
         "2025-06-18 21:21:07 ACST"
        ],
        [
         "43",
         "2025-06-19 17:00:00",
         "JPY",
         "4.983769",
         "2025-06-18 21:21:07 ACST"
        ],
        [
         "44",
         "2025-06-19 17:30:00",
         "JPY",
         "4.983769",
         "2025-06-18 21:21:07 ACST"
        ],
        [
         "45",
         "2025-06-19 18:00:00",
         "JPY",
         "4.983769",
         "2025-06-18 21:21:07 ACST"
        ],
        [
         "46",
         "2025-06-19 18:30:00",
         "JPY",
         "4.983769",
         "2025-06-18 21:21:07 ACST"
        ],
        [
         "47",
         "2025-06-19 19:00:00",
         "JPY",
         "4.983769",
         "2025-06-18 21:21:07 ACST"
        ],
        [
         "48",
         "2025-06-19 19:30:00",
         "JPY",
         "4.983769",
         "2025-06-18 21:21:07 ACST"
        ],
        [
         "49",
         "2025-06-19 20:00:00",
         "JPY",
         "4.983769",
         "2025-06-18 21:21:07 ACST"
        ]
       ],
       "shape": {
        "columns": 4,
        "rows": 336
       }
      },
      "text/html": [
       "<div>\n",
       "<style scoped>\n",
       "    .dataframe tbody tr th:only-of-type {\n",
       "        vertical-align: middle;\n",
       "    }\n",
       "\n",
       "    .dataframe tbody tr th {\n",
       "        vertical-align: top;\n",
       "    }\n",
       "\n",
       "    .dataframe thead th {\n",
       "        text-align: right;\n",
       "    }\n",
       "</style>\n",
       "<table border=\"1\" class=\"dataframe\">\n",
       "  <thead>\n",
       "    <tr style=\"text-align: right;\">\n",
       "      <th></th>\n",
       "      <th>Date</th>\n",
       "      <th>Currency</th>\n",
       "      <th>Predicted_Rates</th>\n",
       "      <th>local</th>\n",
       "    </tr>\n",
       "  </thead>\n",
       "  <tbody>\n",
       "    <tr>\n",
       "      <th>0</th>\n",
       "      <td>2025-06-18 19:30:00</td>\n",
       "      <td>JPY</td>\n",
       "      <td>4.982508</td>\n",
       "      <td>2025-06-18 21:21:07 ACST</td>\n",
       "    </tr>\n",
       "    <tr>\n",
       "      <th>1</th>\n",
       "      <td>2025-06-18 20:00:00</td>\n",
       "      <td>JPY</td>\n",
       "      <td>4.982654</td>\n",
       "      <td>2025-06-18 21:21:07 ACST</td>\n",
       "    </tr>\n",
       "    <tr>\n",
       "      <th>2</th>\n",
       "      <td>2025-06-18 20:30:00</td>\n",
       "      <td>JPY</td>\n",
       "      <td>4.982830</td>\n",
       "      <td>2025-06-18 21:21:07 ACST</td>\n",
       "    </tr>\n",
       "    <tr>\n",
       "      <th>3</th>\n",
       "      <td>2025-06-18 21:00:00</td>\n",
       "      <td>JPY</td>\n",
       "      <td>4.982990</td>\n",
       "      <td>2025-06-18 21:21:07 ACST</td>\n",
       "    </tr>\n",
       "    <tr>\n",
       "      <th>4</th>\n",
       "      <td>2025-06-18 21:30:00</td>\n",
       "      <td>JPY</td>\n",
       "      <td>4.983114</td>\n",
       "      <td>2025-06-18 21:21:07 ACST</td>\n",
       "    </tr>\n",
       "    <tr>\n",
       "      <th>...</th>\n",
       "      <td>...</td>\n",
       "      <td>...</td>\n",
       "      <td>...</td>\n",
       "      <td>...</td>\n",
       "    </tr>\n",
       "    <tr>\n",
       "      <th>331</th>\n",
       "      <td>2025-06-25 17:00:00</td>\n",
       "      <td>JPY</td>\n",
       "      <td>4.983769</td>\n",
       "      <td>2025-06-18 21:21:07 ACST</td>\n",
       "    </tr>\n",
       "    <tr>\n",
       "      <th>332</th>\n",
       "      <td>2025-06-25 17:30:00</td>\n",
       "      <td>JPY</td>\n",
       "      <td>4.983769</td>\n",
       "      <td>2025-06-18 21:21:07 ACST</td>\n",
       "    </tr>\n",
       "    <tr>\n",
       "      <th>333</th>\n",
       "      <td>2025-06-25 18:00:00</td>\n",
       "      <td>JPY</td>\n",
       "      <td>4.983769</td>\n",
       "      <td>2025-06-18 21:21:07 ACST</td>\n",
       "    </tr>\n",
       "    <tr>\n",
       "      <th>334</th>\n",
       "      <td>2025-06-25 18:30:00</td>\n",
       "      <td>JPY</td>\n",
       "      <td>4.983769</td>\n",
       "      <td>2025-06-18 21:21:07 ACST</td>\n",
       "    </tr>\n",
       "    <tr>\n",
       "      <th>335</th>\n",
       "      <td>2025-06-25 19:00:00</td>\n",
       "      <td>JPY</td>\n",
       "      <td>4.983769</td>\n",
       "      <td>2025-06-18 21:21:07 ACST</td>\n",
       "    </tr>\n",
       "  </tbody>\n",
       "</table>\n",
       "<p>336 rows × 4 columns</p>\n",
       "</div>"
      ],
      "text/plain": [
       "                   Date Currency  Predicted_Rates                     local\n",
       "0   2025-06-18 19:30:00      JPY         4.982508  2025-06-18 21:21:07 ACST\n",
       "1   2025-06-18 20:00:00      JPY         4.982654  2025-06-18 21:21:07 ACST\n",
       "2   2025-06-18 20:30:00      JPY         4.982830  2025-06-18 21:21:07 ACST\n",
       "3   2025-06-18 21:00:00      JPY         4.982990  2025-06-18 21:21:07 ACST\n",
       "4   2025-06-18 21:30:00      JPY         4.983114  2025-06-18 21:21:07 ACST\n",
       "..                  ...      ...              ...                       ...\n",
       "331 2025-06-25 17:00:00      JPY         4.983769  2025-06-18 21:21:07 ACST\n",
       "332 2025-06-25 17:30:00      JPY         4.983769  2025-06-18 21:21:07 ACST\n",
       "333 2025-06-25 18:00:00      JPY         4.983769  2025-06-18 21:21:07 ACST\n",
       "334 2025-06-25 18:30:00      JPY         4.983769  2025-06-18 21:21:07 ACST\n",
       "335 2025-06-25 19:00:00      JPY         4.983769  2025-06-18 21:21:07 ACST\n",
       "\n",
       "[336 rows x 4 columns]"
      ]
     },
     "execution_count": 6,
     "metadata": {},
     "output_type": "execute_result"
    },
    {
     "data": {
      "image/png": "[encoded data removed]",
      "text/plain": [
       "<Figure size 1400x600 with 1 Axes>"
      ]
     },
     "metadata": {},
     "output_type": "display_data"
    }
   ],
   "source": [
    "lstm_predict('jpy')"
   ]
  }
 ],
 "metadata": {
  "kernelspec": {
   "display_name": "Python 3",
   "language": "python",
   "name": "python3"
  },
  "language_info": {
   "codemirror_mode": {
    "name": "ipython",
    "version": 3
   },
   "file_extension": ".py",
   "mimetype": "text/x-python",
   "name": "python",
   "nbconvert_exporter": "python",
   "pygments_lexer": "ipython3",
   "version": "3.10.12"
  }
 },
 "nbformat": 4,
 "nbformat_minor": 5
}
